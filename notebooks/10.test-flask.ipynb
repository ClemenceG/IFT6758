{
 "cells": [
  {
   "cell_type": "code",
   "execution_count": 2,
   "outputs": [
    {
     "name": "stdout",
     "output_type": "stream",
     "text": [
      "/home/williamglazer/Documents/school/DS/ift6758\n"
     ]
    }
   ],
   "source": [
    "%cd .."
   ],
   "metadata": {
    "collapsed": false
   }
  },
  {
   "cell_type": "code",
   "execution_count": 2,
   "id": "19159aa2",
   "metadata": {},
   "outputs": [],
   "source": [
    "from ift6758.pipeline.pipeline import ExperimentPipeline, DEFAULT_TRANSFORMATIONS\n",
    "from ift6758.network.serving_client import ServingClient"
   ]
  },
  {
   "cell_type": "code",
   "execution_count": 3,
   "id": "aebc7be4",
   "metadata": {},
   "outputs": [
    {
     "name": "stdout",
     "output_type": "stream",
     "text": [
      "fetching dataframes from data/tabular\n",
      "applying mirror_coordinates\n",
      "applying append_shot_angle\n",
      "applying append_shot_distance\n",
      "applying replace_nan_by_0\n",
      "applying append_game_secs\n",
      "applying append_time_lapse_prev\n",
      "applying append_dist_prev\n",
      "applying append_rebound\n",
      "applying append_angle_change\n",
      "applying append_speed\n",
      "applying replace_nan_by_0_2\n",
      "done with preprocessing\n"
     ]
    }
   ],
   "source": [
    "df = ExperimentPipeline.get_data(\n",
    "\t\"data/tabular\",\n",
    "\ttransformations=DEFAULT_TRANSFORMATIONS\n",
    ")"
   ]
  },
  {
   "cell_type": "code",
   "execution_count": 4,
   "id": "f8875105",
   "metadata": {},
   "outputs": [],
   "source": [
    "client = ServingClient()"
   ]
  },
  {
   "cell_type": "code",
   "execution_count": 5,
   "outputs": [],
   "source": [
    "sample = df.sample(10)"
   ],
   "metadata": {
    "collapsed": false
   }
  },
  {
   "cell_type": "code",
   "execution_count": 6,
   "outputs": [
    {
     "data": {
      "text/plain": "   goal_proba\n0    0.184958\n1    0.210693\n2    0.055031\n3    0.182216\n4    0.100342\n5    0.033764\n6    0.033132\n7    0.102501\n8    0.268654\n9    0.003433",
      "text/html": "<div>\n<style scoped>\n    .dataframe tbody tr th:only-of-type {\n        vertical-align: middle;\n    }\n\n    .dataframe tbody tr th {\n        vertical-align: top;\n    }\n\n    .dataframe thead th {\n        text-align: right;\n    }\n</style>\n<table border=\"1\" class=\"dataframe\">\n  <thead>\n    <tr style=\"text-align: right;\">\n      <th></th>\n      <th>goal_proba</th>\n    </tr>\n  </thead>\n  <tbody>\n    <tr>\n      <th>0</th>\n      <td>0.184958</td>\n    </tr>\n    <tr>\n      <th>1</th>\n      <td>0.210693</td>\n    </tr>\n    <tr>\n      <th>2</th>\n      <td>0.055031</td>\n    </tr>\n    <tr>\n      <th>3</th>\n      <td>0.182216</td>\n    </tr>\n    <tr>\n      <th>4</th>\n      <td>0.100342</td>\n    </tr>\n    <tr>\n      <th>5</th>\n      <td>0.033764</td>\n    </tr>\n    <tr>\n      <th>6</th>\n      <td>0.033132</td>\n    </tr>\n    <tr>\n      <th>7</th>\n      <td>0.102501</td>\n    </tr>\n    <tr>\n      <th>8</th>\n      <td>0.268654</td>\n    </tr>\n    <tr>\n      <th>9</th>\n      <td>0.003433</td>\n    </tr>\n  </tbody>\n</table>\n</div>"
     },
     "execution_count": 6,
     "metadata": {},
     "output_type": "execute_result"
    }
   ],
   "source": [
    "client.predict(sample)"
   ],
   "metadata": {
    "collapsed": false
   }
  },
  {
   "cell_type": "code",
   "execution_count": 7,
   "outputs": [
    {
     "data": {
      "text/plain": "'OK'"
     },
     "execution_count": 7,
     "metadata": {},
     "output_type": "execute_result"
    }
   ],
   "source": [
    "client.download_registry_model(\n",
    "\tworkspace='williamglazer',\n",
    "\tmodel='naive-bayes',\n",
    "\tversion='1.0.0'\n",
    ")"
   ],
   "metadata": {
    "collapsed": false
   }
  },
  {
   "cell_type": "code",
   "execution_count": 8,
   "outputs": [
    {
     "data": {
      "text/plain": "   goal_proba\n0    0.184958\n1    0.210693\n2    0.055031\n3    0.182216\n4    0.100342\n5    0.033764\n6    0.033132\n7    0.102501\n8    0.268654\n9    0.003433",
      "text/html": "<div>\n<style scoped>\n    .dataframe tbody tr th:only-of-type {\n        vertical-align: middle;\n    }\n\n    .dataframe tbody tr th {\n        vertical-align: top;\n    }\n\n    .dataframe thead th {\n        text-align: right;\n    }\n</style>\n<table border=\"1\" class=\"dataframe\">\n  <thead>\n    <tr style=\"text-align: right;\">\n      <th></th>\n      <th>goal_proba</th>\n    </tr>\n  </thead>\n  <tbody>\n    <tr>\n      <th>0</th>\n      <td>0.184958</td>\n    </tr>\n    <tr>\n      <th>1</th>\n      <td>0.210693</td>\n    </tr>\n    <tr>\n      <th>2</th>\n      <td>0.055031</td>\n    </tr>\n    <tr>\n      <th>3</th>\n      <td>0.182216</td>\n    </tr>\n    <tr>\n      <th>4</th>\n      <td>0.100342</td>\n    </tr>\n    <tr>\n      <th>5</th>\n      <td>0.033764</td>\n    </tr>\n    <tr>\n      <th>6</th>\n      <td>0.033132</td>\n    </tr>\n    <tr>\n      <th>7</th>\n      <td>0.102501</td>\n    </tr>\n    <tr>\n      <th>8</th>\n      <td>0.268654</td>\n    </tr>\n    <tr>\n      <th>9</th>\n      <td>0.003433</td>\n    </tr>\n  </tbody>\n</table>\n</div>"
     },
     "execution_count": 8,
     "metadata": {},
     "output_type": "execute_result"
    }
   ],
   "source": [
    "client.predict(sample)"
   ],
   "metadata": {
    "collapsed": false
   }
  },
  {
   "cell_type": "code",
   "execution_count": 9,
   "outputs": [
    {
     "name": "stdout",
     "output_type": "stream",
     "text": [
      "[2022-12-20 13:39:05,657] INFO in app: fetching model from ../data/models/default.pkl: \n",
      "[2022-12-20 13:39:06,860] INFO in app: successfully loaded\n",
      "[2022-12-20 13:39:06,864] INFO in app: predicting goal probabilities\n",
      "[2022-12-20 13:39:06,878] INFO in app: done!\n",
      "[2022-12-20 13:48:08,941] INFO in app: fetching model from ../data/models/default.pkl: \n",
      "[2022-12-20 13:48:08,951] INFO in app: successfully loaded\n",
      "[2022-12-20 13:48:08,960] INFO in app: predicting goal probabilities\n",
      "[2022-12-20 13:48:08,981] INFO in app: done!\n",
      "[2022-12-20 13:48:23,643] INFO in app: fetching model from ../data/models/default.pkl: \n",
      "[2022-12-20 13:48:23,653] INFO in app: successfully loaded\n",
      "[2022-12-20 13:48:23,667] INFO in app: predicting goal probabilities\n",
      "[2022-12-20 13:48:23,723] INFO in app: done!\n",
      "[2022-12-20 13:52:23,715] INFO in app: fetching model from ../data/models/default.pkl: \n",
      "[2022-12-20 13:52:23,726] INFO in app: successfully loaded\n",
      "[2022-12-20 13:52:23,731] INFO in app: predicting goal probabilities\n",
      "[2022-12-20 13:52:23,749] INFO in app: done!\n",
      "[2022-12-20 14:41:09,489] ERROR in app: Exception on /predict [POST]\n",
      "Traceback (most recent call last):\n",
      "  File \"/home/williamglazer/anaconda3/envs/ift6758-conda-env/lib/python3.10/site-packages/flask/app.py\", line 2525, in wsgi_app\n",
      "    response = self.full_dispatch_request()\n",
      "  File \"/home/williamglazer/anaconda3/envs/ift6758-conda-env/lib/python3.10/site-packages/flask/app.py\", line 1822, in full_dispatch_request\n",
      "    rv = self.handle_user_exception(e)\n",
      "  File \"/home/williamglazer/anaconda3/envs/ift6758-conda-env/lib/python3.10/site-packages/flask/app.py\", line 1820, in full_dispatch_request\n",
      "    rv = self.dispatch_request()\n",
      "  File \"/home/williamglazer/anaconda3/envs/ift6758-conda-env/lib/python3.10/site-packages/flask/app.py\", line 1796, in dispatch_request\n",
      "    return self.ensure_sync(self.view_functions[rule.endpoint])(**view_args)\n",
      "  File \"/home/williamglazer/Documents/school/DS/ift6758/server/app.py\", line 139, in predict\n",
      "    model = get_model()\n",
      "  File \"/home/williamglazer/Documents/school/DS/ift6758/server/app.py\", line 54, in get_model\n",
      "    api.download_registry_model(\n",
      "  File \"/home/williamglazer/anaconda3/envs/ift6758-conda-env/lib/python3.10/site-packages/comet_ml/api.py\", line 4041, in download_registry_model\n",
      "    zip_file = self._client.get_registry_model_zipfile(\n",
      "  File \"/home/williamglazer/anaconda3/envs/ift6758-conda-env/lib/python3.10/site-packages/comet_ml/connection.py\", line 3804, in get_registry_model_zipfile\n",
      "    return self.get_from_endpoint(\n",
      "  File \"/home/williamglazer/anaconda3/envs/ift6758-conda-env/lib/python3.10/site-packages/comet_ml/connection.py\", line 4345, in get_from_endpoint\n",
      "    retval = super(RestApiClientWithCache, self).get_from_endpoint(\n",
      "  File \"/home/williamglazer/anaconda3/envs/ift6758-conda-env/lib/python3.10/site-packages/comet_ml/connection.py\", line 1937, in get_from_endpoint\n",
      "    response = self.get(url, params, timeout=timeout, stream=stream)\n",
      "  File \"/home/williamglazer/anaconda3/envs/ift6758-conda-env/lib/python3.10/site-packages/comet_ml/connection.py\", line 2070, in get\n",
      "    return super(RestApiClient, self).get(\n",
      "  File \"/home/williamglazer/anaconda3/envs/ift6758-conda-env/lib/python3.10/site-packages/comet_ml/connection.py\", line 1923, in get\n",
      "    raise CometRestApiException(\"GET\", response)\n",
      "comet_ml.exceptions.CometRestApiException: GET https://www.comet.com/api/rest/v2/registry-model/item/download?workspaceName=hockeyanalysis&modelName=adaboost-stratified&version=1.0.0 failed with status code 400: No such workspace\n",
      "[2022-12-20 14:42:26,101] ERROR in app: Exception on /predict [POST]\n",
      "Traceback (most recent call last):\n",
      "  File \"/home/williamglazer/anaconda3/envs/ift6758-conda-env/lib/python3.10/site-packages/flask/app.py\", line 2525, in wsgi_app\n",
      "    response = self.full_dispatch_request()\n",
      "  File \"/home/williamglazer/anaconda3/envs/ift6758-conda-env/lib/python3.10/site-packages/flask/app.py\", line 1822, in full_dispatch_request\n",
      "    rv = self.handle_user_exception(e)\n",
      "  File \"/home/williamglazer/anaconda3/envs/ift6758-conda-env/lib/python3.10/site-packages/flask/app.py\", line 1820, in full_dispatch_request\n",
      "    rv = self.dispatch_request()\n",
      "  File \"/home/williamglazer/anaconda3/envs/ift6758-conda-env/lib/python3.10/site-packages/flask/app.py\", line 1796, in dispatch_request\n",
      "    return self.ensure_sync(self.view_functions[rule.endpoint])(**view_args)\n",
      "  File \"/home/williamglazer/Documents/school/DS/ift6758/server/app.py\", line 139, in predict\n",
      "    model = get_model()\n",
      "  File \"/home/williamglazer/Documents/school/DS/ift6758/server/app.py\", line 61, in get_model\n",
      "    set_model()\n",
      "TypeError: set_model() missing 1 required positional argument: 'path'\n",
      "[2022-12-20 14:49:09,300] INFO in app: setting default model to ../data/models/staging/model_created_2022-11-25 15:07:43.110377.pkl\n",
      "[2022-12-20 14:49:09,301] INFO in app: fetching model from ../data/models/default.pkl: \n",
      "[2022-12-20 14:49:11,111] INFO in app: successfully loaded\n",
      "[2022-12-20 14:49:11,120] INFO in app: predicting goal probabilities\n",
      "[2022-12-20 14:49:11,137] INFO in app: done!\n",
      "[2022-12-20 14:51:13,475] ERROR in app: Exception on /download_registry_model [POST]\n",
      "Traceback (most recent call last):\n",
      "  File \"/home/williamglazer/anaconda3/envs/ift6758-conda-env/lib/python3.10/site-packages/flask/app.py\", line 2525, in wsgi_app\n",
      "    response = self.full_dispatch_request()\n",
      "  File \"/home/williamglazer/anaconda3/envs/ift6758-conda-env/lib/python3.10/site-packages/flask/app.py\", line 1822, in full_dispatch_request\n",
      "    rv = self.handle_user_exception(e)\n",
      "  File \"/home/williamglazer/anaconda3/envs/ift6758-conda-env/lib/python3.10/site-packages/flask/app.py\", line 1820, in full_dispatch_request\n",
      "    rv = self.dispatch_request()\n",
      "  File \"/home/williamglazer/anaconda3/envs/ift6758-conda-env/lib/python3.10/site-packages/flask/app.py\", line 1796, in dispatch_request\n",
      "    return self.ensure_sync(self.view_functions[rule.endpoint])(**view_args)\n",
      "  File \"/home/williamglazer/Documents/school/DS/ift6758/server/app.py\", line 105, in download_registry_model\n",
      "    model_name = f\"{data['workspace']}-{data['registry_name']}-{data['version']}.pkl\"\n",
      "KeyError: 'registry_name'\n",
      "[2022-12-20 14:51:59,679] INFO in app: fetching model from ../data/models/default.pkl: \n",
      "[2022-12-20 14:51:59,687] INFO in app: successfully loaded\n",
      "[2022-12-20 14:51:59,691] INFO in app: predicting goal probabilities\n",
      "[2022-12-20 14:51:59,706] INFO in app: done!\n",
      "[2022-12-20 14:51:59,755] ERROR in app: Exception on /download_registry_model [POST]\n",
      "Traceback (most recent call last):\n",
      "  File \"/home/williamglazer/anaconda3/envs/ift6758-conda-env/lib/python3.10/site-packages/flask/app.py\", line 2525, in wsgi_app\n",
      "    response = self.full_dispatch_request()\n",
      "  File \"/home/williamglazer/anaconda3/envs/ift6758-conda-env/lib/python3.10/site-packages/flask/app.py\", line 1822, in full_dispatch_request\n",
      "    rv = self.handle_user_exception(e)\n",
      "  File \"/home/williamglazer/anaconda3/envs/ift6758-conda-env/lib/python3.10/site-packages/flask/app.py\", line 1820, in full_dispatch_request\n",
      "    rv = self.dispatch_request()\n",
      "  File \"/home/williamglazer/anaconda3/envs/ift6758-conda-env/lib/python3.10/site-packages/flask/app.py\", line 1796, in dispatch_request\n",
      "    return self.ensure_sync(self.view_functions[rule.endpoint])(**view_args)\n",
      "  File \"/home/williamglazer/Documents/school/DS/ift6758/server/app.py\", line 105, in download_registry_model\n",
      "    model_name = f\"{data['workspace']}-{data['registry_name']}-{data['version']}.pkl\"\n",
      "KeyError: 'registry_name'\n",
      "[2022-12-20 14:52:54,845] INFO in app: fetching model from ../data/models/default.pkl: \n",
      "[2022-12-20 14:52:54,860] INFO in app: successfully loaded\n",
      "[2022-12-20 14:52:54,871] INFO in app: predicting goal probabilities\n",
      "[2022-12-20 14:52:54,914] INFO in app: done!\n",
      "[2022-12-20 14:53:08,575] ERROR in app: Exception on /download_registry_model [POST]\n",
      "Traceback (most recent call last):\n",
      "  File \"/home/williamglazer/anaconda3/envs/ift6758-conda-env/lib/python3.10/site-packages/flask/app.py\", line 2525, in wsgi_app\n",
      "    response = self.full_dispatch_request()\n",
      "  File \"/home/williamglazer/anaconda3/envs/ift6758-conda-env/lib/python3.10/site-packages/flask/app.py\", line 1822, in full_dispatch_request\n",
      "    rv = self.handle_user_exception(e)\n",
      "  File \"/home/williamglazer/anaconda3/envs/ift6758-conda-env/lib/python3.10/site-packages/flask/app.py\", line 1820, in full_dispatch_request\n",
      "    rv = self.dispatch_request()\n",
      "  File \"/home/williamglazer/anaconda3/envs/ift6758-conda-env/lib/python3.10/site-packages/flask/app.py\", line 1796, in dispatch_request\n",
      "    return self.ensure_sync(self.view_functions[rule.endpoint])(**view_args)\n",
      "  File \"/home/williamglazer/Documents/school/DS/ift6758/server/app.py\", line 105, in download_registry_model\n",
      "    model_name = f\"{data['workspace']}-{data['registry_name']}-{data['version']}.pkl\"\n",
      "KeyError: 'registry_name'\n",
      "[2022-12-20 14:54:29,257] INFO in app: downloading model williamglazer-naive_bayes-1.0.0.pkl to ../data/models\n",
      "[2022-12-20 14:54:29,526] ERROR in app: error loading model: GET https://www.comet.com/api/rest/v2/registry-model/item/download?workspaceName=williamglazer&modelName=naive_bayes&version=1.0.0 failed with status code 400: No such registry model\n",
      "[2022-12-20 14:54:47,646] INFO in app: downloading model williamglazer-naive-bayes-1.0.0.pkl to ../data/models\n",
      "[2022-12-20 14:54:48,120] INFO in app: done!\n",
      "[2022-12-20 14:54:48,120] INFO in app: setting default model to ../data/models/williamglazer-naive-bayes-1.0.0.pkl\n",
      "[2022-12-20 14:54:48,120] ERROR in app: error loading model: [Errno 2] No such file or directory: '../data/models/williamglazer-naive-bayes-1.0.0.pkl'\n",
      "[2022-12-20 14:56:22,164] INFO in app: downloading model williamglazer-naive-bayes-1.0.0.pkl to ../data/models\n",
      "[2022-12-20 14:56:22,584] INFO in app: done!\n",
      "[2022-12-20 14:56:22,586] INFO in app: setting default model to ../data/models/staging/model_created_2022-11-25 14:31:54.606608.pkl\n",
      "[2022-12-20 14:56:22,586] ERROR in app: error loading model: [Errno 2] No such file or directory: '../data/models/staging/model_created_2022-11-25 14:31:54.606608.pkl'\n",
      "[2022-12-20 14:57:34,236] INFO in app: downloading model williamglazer-naive-bayes-1.0.0.pkl to ../data/models\n",
      "[2022-12-20 14:57:34,619] INFO in app: done!\n",
      "[2022-12-20 14:57:34,620] INFO in app: setting default model to ../data/models/williamglazer-naive-bayes-1.0.0.pkl\n",
      "[2022-12-20 14:57:39,381] INFO in app: fetching model from ../data/models/default.pkl: \n",
      "[2022-12-20 14:57:40,678] INFO in app: successfully loaded\n",
      "[2022-12-20 14:57:40,685] INFO in app: predicting goal probabilities\n",
      "[2022-12-20 14:57:40,689] INFO in app: done!\n",
      "[2022-12-20 14:58:49,510] INFO in app: fetching model from ../data/models/default.pkl: \n",
      "[2022-12-20 14:58:49,511] INFO in app: successfully loaded\n",
      "[2022-12-20 14:58:49,518] INFO in app: predicting goal probabilities\n",
      "[2022-12-20 14:58:49,523] INFO in app: done!\n",
      "[2022-12-20 14:58:49,557] INFO in app: model williamglazer-naive-bayes-1.0.0.pkl already exists\n",
      "[2022-12-20 14:58:49,558] ERROR in app: error loading model: \n",
      "[2022-12-20 14:58:49,572] INFO in app: fetching model from ../data/models/default.pkl: \n",
      "[2022-12-20 14:58:49,573] INFO in app: successfully loaded\n",
      "[2022-12-20 14:58:49,578] INFO in app: predicting goal probabilities\n",
      "[2022-12-20 14:58:49,580] INFO in app: done!\n",
      "[2022-12-20 14:59:48,980] INFO in app: fetching model from ../data/models/default.pkl: \n",
      "[2022-12-20 14:59:49,660] INFO in app: successfully loaded\n",
      "[2022-12-20 14:59:49,671] INFO in app: predicting goal probabilities\n",
      "[2022-12-20 14:59:49,677] INFO in app: done!\n",
      "[2022-12-20 14:59:49,738] INFO in app: model williamglazer-naive-bayes-1.0.0.pkl already exists\n",
      "[2022-12-20 14:59:49,769] INFO in app: fetching model from ../data/models/default.pkl: \n",
      "[2022-12-20 14:59:49,770] INFO in app: successfully loaded\n",
      "[2022-12-20 14:59:49,786] INFO in app: predicting goal probabilities\n",
      "[2022-12-20 14:59:49,794] INFO in app: done!\n",
      "\n"
     ]
    }
   ],
   "source": [
    "logs = client.logs()\n",
    "print(logs)"
   ],
   "metadata": {
    "collapsed": false
   }
  },
  {
   "cell_type": "code",
   "execution_count": 2,
   "outputs": [],
   "source": [
    "from ift6758.network.game_client import GameClient"
   ],
   "metadata": {
    "collapsed": false
   }
  },
  {
   "cell_type": "code",
   "execution_count": 3,
   "outputs": [
    {
     "name": "stdout",
     "output_type": "stream",
     "text": [
      "CPU times: user 162 ms, sys: 8.23 ms, total: 170 ms\n",
      "Wall time: 276 ms\n"
     ]
    },
    {
     "data": {
      "text/plain": "          game_starttime          game_endtime     game_id  \\\n0   2021-10-12T23:30:00Z  2021-10-13T02:17:13Z  2021020001   \n1   2021-10-12T23:30:00Z  2021-10-13T02:17:13Z  2021020001   \n2   2021-10-12T23:30:00Z  2021-10-13T02:17:13Z  2021020001   \n3   2021-10-12T23:30:00Z  2021-10-13T02:17:13Z  2021020001   \n4   2021-10-12T23:30:00Z  2021-10-13T02:17:13Z  2021020001   \n..                   ...                   ...         ...   \n58  2021-10-12T23:30:00Z  2021-10-13T02:17:13Z  2021020001   \n59  2021-10-12T23:30:00Z  2021-10-13T02:17:13Z  2021020001   \n60  2021-10-12T23:30:00Z  2021-10-13T02:17:13Z  2021020001   \n61  2021-10-12T23:30:00Z  2021-10-13T02:17:13Z  2021020001   \n62  2021-10-12T23:30:00Z  2021-10-13T02:17:13Z  2021020001   \n\n                datetime  offense_team_id    offense_team_name  \\\n0   2021-10-12T23:45:32Z               14  Tampa Bay Lightning   \n1   2021-10-12T23:46:44Z                5  Pittsburgh Penguins   \n2   2021-10-12T23:47:01Z               14  Tampa Bay Lightning   \n3   2021-10-12T23:48:22Z                5  Pittsburgh Penguins   \n4   2021-10-12T23:49:12Z               14  Tampa Bay Lightning   \n..                   ...              ...                  ...   \n58  2021-10-13T02:12:00Z                5  Pittsburgh Penguins   \n59  2021-10-13T02:13:18Z                5  Pittsburgh Penguins   \n60  2021-10-13T02:16:44Z               14  Tampa Bay Lightning   \n61  2021-10-13T02:16:52Z               14  Tampa Bay Lightning   \n62  2021-10-13T02:16:59Z               14  Tampa Bay Lightning   \n\n   offense_team_tricode  goal  x_coords  y_coords  ...  strength_even  \\\n0                   TBL     0      61.0     -32.0  ...            0.0   \n1                   PIT     0      65.0     -19.0  ...            0.0   \n2                   TBL     0       8.0      27.0  ...            0.0   \n3                   PIT     0      60.0       4.0  ...            0.0   \n4                   TBL     0      63.0       4.0  ...            0.0   \n..                  ...   ...       ...       ...  ...            ...   \n58                  PIT     1      31.0      32.0  ...            1.0   \n59                  PIT     1      24.0      10.0  ...            1.0   \n60                  TBL     0      45.0       2.0  ...            0.0   \n61                  TBL     0      56.0      29.0  ...            0.0   \n62                  TBL     0      37.0     -28.0  ...            0.0   \n\n   strength_powerplay  shot_angle shot_distance  game_secs  \\\n0                 0.0   41.185925     42.520583         63   \n1                 0.0   51.632515     30.610456        104   \n2                 0.0   71.565051     85.381497        121   \n3                 0.0   82.146687     29.274562        167   \n4                 0.0   81.253838     26.305893        187   \n..                ...         ...           ...        ...   \n58                0.0   61.113418     66.241981       3455   \n59                0.0   81.253838     65.764732       3491   \n60                0.0   87.397438     44.045431       3580   \n61                0.0   48.691386     43.931765       3588   \n62                0.0   61.699244     59.059292       3595   \n\n   time_lapsed_prev_event_in_seconds dist_prev_event rebound  angle_change  \\\n0                                  0        0.000000   False      0.000000   \n1                                 19        5.385165   False      0.000000   \n2                                  4      100.568385   False      0.000000   \n3                                  2      130.311166   False      0.000000   \n4                                 19      134.536240   False      0.000000   \n..                               ...             ...     ...           ...   \n58                                14       38.013156   False      0.000000   \n59                                36       26.000000   False      0.000000   \n60                                 5       31.240999   False      0.000000   \n61                                 8       29.154759    True    -38.706052   \n62                                 7       60.083276    True     13.007858   \n\n        speed  \n0    0.000000  \n1    0.283430  \n2   25.142096  \n3   65.155583  \n4    7.080855  \n..        ...  \n58   2.715225  \n59   0.722222  \n60   6.248200  \n61   3.644345  \n62   8.583325  \n\n[63 rows x 33 columns]",
      "text/html": "<div>\n<style scoped>\n    .dataframe tbody tr th:only-of-type {\n        vertical-align: middle;\n    }\n\n    .dataframe tbody tr th {\n        vertical-align: top;\n    }\n\n    .dataframe thead th {\n        text-align: right;\n    }\n</style>\n<table border=\"1\" class=\"dataframe\">\n  <thead>\n    <tr style=\"text-align: right;\">\n      <th></th>\n      <th>game_starttime</th>\n      <th>game_endtime</th>\n      <th>game_id</th>\n      <th>datetime</th>\n      <th>offense_team_id</th>\n      <th>offense_team_name</th>\n      <th>offense_team_tricode</th>\n      <th>goal</th>\n      <th>x_coords</th>\n      <th>y_coords</th>\n      <th>...</th>\n      <th>strength_even</th>\n      <th>strength_powerplay</th>\n      <th>shot_angle</th>\n      <th>shot_distance</th>\n      <th>game_secs</th>\n      <th>time_lapsed_prev_event_in_seconds</th>\n      <th>dist_prev_event</th>\n      <th>rebound</th>\n      <th>angle_change</th>\n      <th>speed</th>\n    </tr>\n  </thead>\n  <tbody>\n    <tr>\n      <th>0</th>\n      <td>2021-10-12T23:30:00Z</td>\n      <td>2021-10-13T02:17:13Z</td>\n      <td>2021020001</td>\n      <td>2021-10-12T23:45:32Z</td>\n      <td>14</td>\n      <td>Tampa Bay Lightning</td>\n      <td>TBL</td>\n      <td>0</td>\n      <td>61.0</td>\n      <td>-32.0</td>\n      <td>...</td>\n      <td>0.0</td>\n      <td>0.0</td>\n      <td>41.185925</td>\n      <td>42.520583</td>\n      <td>63</td>\n      <td>0</td>\n      <td>0.000000</td>\n      <td>False</td>\n      <td>0.000000</td>\n      <td>0.000000</td>\n    </tr>\n    <tr>\n      <th>1</th>\n      <td>2021-10-12T23:30:00Z</td>\n      <td>2021-10-13T02:17:13Z</td>\n      <td>2021020001</td>\n      <td>2021-10-12T23:46:44Z</td>\n      <td>5</td>\n      <td>Pittsburgh Penguins</td>\n      <td>PIT</td>\n      <td>0</td>\n      <td>65.0</td>\n      <td>-19.0</td>\n      <td>...</td>\n      <td>0.0</td>\n      <td>0.0</td>\n      <td>51.632515</td>\n      <td>30.610456</td>\n      <td>104</td>\n      <td>19</td>\n      <td>5.385165</td>\n      <td>False</td>\n      <td>0.000000</td>\n      <td>0.283430</td>\n    </tr>\n    <tr>\n      <th>2</th>\n      <td>2021-10-12T23:30:00Z</td>\n      <td>2021-10-13T02:17:13Z</td>\n      <td>2021020001</td>\n      <td>2021-10-12T23:47:01Z</td>\n      <td>14</td>\n      <td>Tampa Bay Lightning</td>\n      <td>TBL</td>\n      <td>0</td>\n      <td>8.0</td>\n      <td>27.0</td>\n      <td>...</td>\n      <td>0.0</td>\n      <td>0.0</td>\n      <td>71.565051</td>\n      <td>85.381497</td>\n      <td>121</td>\n      <td>4</td>\n      <td>100.568385</td>\n      <td>False</td>\n      <td>0.000000</td>\n      <td>25.142096</td>\n    </tr>\n    <tr>\n      <th>3</th>\n      <td>2021-10-12T23:30:00Z</td>\n      <td>2021-10-13T02:17:13Z</td>\n      <td>2021020001</td>\n      <td>2021-10-12T23:48:22Z</td>\n      <td>5</td>\n      <td>Pittsburgh Penguins</td>\n      <td>PIT</td>\n      <td>0</td>\n      <td>60.0</td>\n      <td>4.0</td>\n      <td>...</td>\n      <td>0.0</td>\n      <td>0.0</td>\n      <td>82.146687</td>\n      <td>29.274562</td>\n      <td>167</td>\n      <td>2</td>\n      <td>130.311166</td>\n      <td>False</td>\n      <td>0.000000</td>\n      <td>65.155583</td>\n    </tr>\n    <tr>\n      <th>4</th>\n      <td>2021-10-12T23:30:00Z</td>\n      <td>2021-10-13T02:17:13Z</td>\n      <td>2021020001</td>\n      <td>2021-10-12T23:49:12Z</td>\n      <td>14</td>\n      <td>Tampa Bay Lightning</td>\n      <td>TBL</td>\n      <td>0</td>\n      <td>63.0</td>\n      <td>4.0</td>\n      <td>...</td>\n      <td>0.0</td>\n      <td>0.0</td>\n      <td>81.253838</td>\n      <td>26.305893</td>\n      <td>187</td>\n      <td>19</td>\n      <td>134.536240</td>\n      <td>False</td>\n      <td>0.000000</td>\n      <td>7.080855</td>\n    </tr>\n    <tr>\n      <th>...</th>\n      <td>...</td>\n      <td>...</td>\n      <td>...</td>\n      <td>...</td>\n      <td>...</td>\n      <td>...</td>\n      <td>...</td>\n      <td>...</td>\n      <td>...</td>\n      <td>...</td>\n      <td>...</td>\n      <td>...</td>\n      <td>...</td>\n      <td>...</td>\n      <td>...</td>\n      <td>...</td>\n      <td>...</td>\n      <td>...</td>\n      <td>...</td>\n      <td>...</td>\n      <td>...</td>\n    </tr>\n    <tr>\n      <th>58</th>\n      <td>2021-10-12T23:30:00Z</td>\n      <td>2021-10-13T02:17:13Z</td>\n      <td>2021020001</td>\n      <td>2021-10-13T02:12:00Z</td>\n      <td>5</td>\n      <td>Pittsburgh Penguins</td>\n      <td>PIT</td>\n      <td>1</td>\n      <td>31.0</td>\n      <td>32.0</td>\n      <td>...</td>\n      <td>1.0</td>\n      <td>0.0</td>\n      <td>61.113418</td>\n      <td>66.241981</td>\n      <td>3455</td>\n      <td>14</td>\n      <td>38.013156</td>\n      <td>False</td>\n      <td>0.000000</td>\n      <td>2.715225</td>\n    </tr>\n    <tr>\n      <th>59</th>\n      <td>2021-10-12T23:30:00Z</td>\n      <td>2021-10-13T02:17:13Z</td>\n      <td>2021020001</td>\n      <td>2021-10-13T02:13:18Z</td>\n      <td>5</td>\n      <td>Pittsburgh Penguins</td>\n      <td>PIT</td>\n      <td>1</td>\n      <td>24.0</td>\n      <td>10.0</td>\n      <td>...</td>\n      <td>1.0</td>\n      <td>0.0</td>\n      <td>81.253838</td>\n      <td>65.764732</td>\n      <td>3491</td>\n      <td>36</td>\n      <td>26.000000</td>\n      <td>False</td>\n      <td>0.000000</td>\n      <td>0.722222</td>\n    </tr>\n    <tr>\n      <th>60</th>\n      <td>2021-10-12T23:30:00Z</td>\n      <td>2021-10-13T02:17:13Z</td>\n      <td>2021020001</td>\n      <td>2021-10-13T02:16:44Z</td>\n      <td>14</td>\n      <td>Tampa Bay Lightning</td>\n      <td>TBL</td>\n      <td>0</td>\n      <td>45.0</td>\n      <td>2.0</td>\n      <td>...</td>\n      <td>0.0</td>\n      <td>0.0</td>\n      <td>87.397438</td>\n      <td>44.045431</td>\n      <td>3580</td>\n      <td>5</td>\n      <td>31.240999</td>\n      <td>False</td>\n      <td>0.000000</td>\n      <td>6.248200</td>\n    </tr>\n    <tr>\n      <th>61</th>\n      <td>2021-10-12T23:30:00Z</td>\n      <td>2021-10-13T02:17:13Z</td>\n      <td>2021020001</td>\n      <td>2021-10-13T02:16:52Z</td>\n      <td>14</td>\n      <td>Tampa Bay Lightning</td>\n      <td>TBL</td>\n      <td>0</td>\n      <td>56.0</td>\n      <td>29.0</td>\n      <td>...</td>\n      <td>0.0</td>\n      <td>0.0</td>\n      <td>48.691386</td>\n      <td>43.931765</td>\n      <td>3588</td>\n      <td>8</td>\n      <td>29.154759</td>\n      <td>True</td>\n      <td>-38.706052</td>\n      <td>3.644345</td>\n    </tr>\n    <tr>\n      <th>62</th>\n      <td>2021-10-12T23:30:00Z</td>\n      <td>2021-10-13T02:17:13Z</td>\n      <td>2021020001</td>\n      <td>2021-10-13T02:16:59Z</td>\n      <td>14</td>\n      <td>Tampa Bay Lightning</td>\n      <td>TBL</td>\n      <td>0</td>\n      <td>37.0</td>\n      <td>-28.0</td>\n      <td>...</td>\n      <td>0.0</td>\n      <td>0.0</td>\n      <td>61.699244</td>\n      <td>59.059292</td>\n      <td>3595</td>\n      <td>7</td>\n      <td>60.083276</td>\n      <td>True</td>\n      <td>13.007858</td>\n      <td>8.583325</td>\n    </tr>\n  </tbody>\n</table>\n<p>63 rows × 33 columns</p>\n</div>"
     },
     "execution_count": 3,
     "metadata": {},
     "output_type": "execute_result"
    }
   ],
   "source": [
    "%%time\n",
    "GameClient.get_game_data(2021020001)"
   ],
   "metadata": {
    "collapsed": false
   }
  },
  {
   "cell_type": "code",
   "execution_count": 4,
   "outputs": [
    {
     "name": "stdout",
     "output_type": "stream",
     "text": [
      "CPU times: user 9 µs, sys: 2 µs, total: 11 µs\n",
      "Wall time: 17.6 µs\n"
     ]
    },
    {
     "data": {
      "text/plain": "          game_starttime          game_endtime     game_id  \\\n0   2021-10-12T23:30:00Z  2021-10-13T02:17:13Z  2021020001   \n1   2021-10-12T23:30:00Z  2021-10-13T02:17:13Z  2021020001   \n2   2021-10-12T23:30:00Z  2021-10-13T02:17:13Z  2021020001   \n3   2021-10-12T23:30:00Z  2021-10-13T02:17:13Z  2021020001   \n4   2021-10-12T23:30:00Z  2021-10-13T02:17:13Z  2021020001   \n..                   ...                   ...         ...   \n58  2021-10-12T23:30:00Z  2021-10-13T02:17:13Z  2021020001   \n59  2021-10-12T23:30:00Z  2021-10-13T02:17:13Z  2021020001   \n60  2021-10-12T23:30:00Z  2021-10-13T02:17:13Z  2021020001   \n61  2021-10-12T23:30:00Z  2021-10-13T02:17:13Z  2021020001   \n62  2021-10-12T23:30:00Z  2021-10-13T02:17:13Z  2021020001   \n\n                datetime  offense_team_id    offense_team_name  \\\n0   2021-10-12T23:45:32Z               14  Tampa Bay Lightning   \n1   2021-10-12T23:46:44Z                5  Pittsburgh Penguins   \n2   2021-10-12T23:47:01Z               14  Tampa Bay Lightning   \n3   2021-10-12T23:48:22Z                5  Pittsburgh Penguins   \n4   2021-10-12T23:49:12Z               14  Tampa Bay Lightning   \n..                   ...              ...                  ...   \n58  2021-10-13T02:12:00Z                5  Pittsburgh Penguins   \n59  2021-10-13T02:13:18Z                5  Pittsburgh Penguins   \n60  2021-10-13T02:16:44Z               14  Tampa Bay Lightning   \n61  2021-10-13T02:16:52Z               14  Tampa Bay Lightning   \n62  2021-10-13T02:16:59Z               14  Tampa Bay Lightning   \n\n   offense_team_tricode  goal  x_coords  y_coords  ...  strength_even  \\\n0                   TBL     0      61.0     -32.0  ...            0.0   \n1                   PIT     0      65.0     -19.0  ...            0.0   \n2                   TBL     0       8.0      27.0  ...            0.0   \n3                   PIT     0      60.0       4.0  ...            0.0   \n4                   TBL     0      63.0       4.0  ...            0.0   \n..                  ...   ...       ...       ...  ...            ...   \n58                  PIT     1      31.0      32.0  ...            1.0   \n59                  PIT     1      24.0      10.0  ...            1.0   \n60                  TBL     0      45.0       2.0  ...            0.0   \n61                  TBL     0      56.0      29.0  ...            0.0   \n62                  TBL     0      37.0     -28.0  ...            0.0   \n\n   strength_powerplay  shot_angle shot_distance  game_secs  \\\n0                 0.0   41.185925     42.520583         63   \n1                 0.0   51.632515     30.610456        104   \n2                 0.0   71.565051     85.381497        121   \n3                 0.0   82.146687     29.274562        167   \n4                 0.0   81.253838     26.305893        187   \n..                ...         ...           ...        ...   \n58                0.0   61.113418     66.241981       3455   \n59                0.0   81.253838     65.764732       3491   \n60                0.0   87.397438     44.045431       3580   \n61                0.0   48.691386     43.931765       3588   \n62                0.0   61.699244     59.059292       3595   \n\n   time_lapsed_prev_event_in_seconds dist_prev_event rebound  angle_change  \\\n0                                  0        0.000000   False      0.000000   \n1                                 19        5.385165   False      0.000000   \n2                                  4      100.568385   False      0.000000   \n3                                  2      130.311166   False      0.000000   \n4                                 19      134.536240   False      0.000000   \n..                               ...             ...     ...           ...   \n58                                14       38.013156   False      0.000000   \n59                                36       26.000000   False      0.000000   \n60                                 5       31.240999   False      0.000000   \n61                                 8       29.154759    True    -38.706052   \n62                                 7       60.083276    True     13.007858   \n\n        speed  \n0    0.000000  \n1    0.283430  \n2   25.142096  \n3   65.155583  \n4    7.080855  \n..        ...  \n58   2.715225  \n59   0.722222  \n60   6.248200  \n61   3.644345  \n62   8.583325  \n\n[63 rows x 33 columns]",
      "text/html": "<div>\n<style scoped>\n    .dataframe tbody tr th:only-of-type {\n        vertical-align: middle;\n    }\n\n    .dataframe tbody tr th {\n        vertical-align: top;\n    }\n\n    .dataframe thead th {\n        text-align: right;\n    }\n</style>\n<table border=\"1\" class=\"dataframe\">\n  <thead>\n    <tr style=\"text-align: right;\">\n      <th></th>\n      <th>game_starttime</th>\n      <th>game_endtime</th>\n      <th>game_id</th>\n      <th>datetime</th>\n      <th>offense_team_id</th>\n      <th>offense_team_name</th>\n      <th>offense_team_tricode</th>\n      <th>goal</th>\n      <th>x_coords</th>\n      <th>y_coords</th>\n      <th>...</th>\n      <th>strength_even</th>\n      <th>strength_powerplay</th>\n      <th>shot_angle</th>\n      <th>shot_distance</th>\n      <th>game_secs</th>\n      <th>time_lapsed_prev_event_in_seconds</th>\n      <th>dist_prev_event</th>\n      <th>rebound</th>\n      <th>angle_change</th>\n      <th>speed</th>\n    </tr>\n  </thead>\n  <tbody>\n    <tr>\n      <th>0</th>\n      <td>2021-10-12T23:30:00Z</td>\n      <td>2021-10-13T02:17:13Z</td>\n      <td>2021020001</td>\n      <td>2021-10-12T23:45:32Z</td>\n      <td>14</td>\n      <td>Tampa Bay Lightning</td>\n      <td>TBL</td>\n      <td>0</td>\n      <td>61.0</td>\n      <td>-32.0</td>\n      <td>...</td>\n      <td>0.0</td>\n      <td>0.0</td>\n      <td>41.185925</td>\n      <td>42.520583</td>\n      <td>63</td>\n      <td>0</td>\n      <td>0.000000</td>\n      <td>False</td>\n      <td>0.000000</td>\n      <td>0.000000</td>\n    </tr>\n    <tr>\n      <th>1</th>\n      <td>2021-10-12T23:30:00Z</td>\n      <td>2021-10-13T02:17:13Z</td>\n      <td>2021020001</td>\n      <td>2021-10-12T23:46:44Z</td>\n      <td>5</td>\n      <td>Pittsburgh Penguins</td>\n      <td>PIT</td>\n      <td>0</td>\n      <td>65.0</td>\n      <td>-19.0</td>\n      <td>...</td>\n      <td>0.0</td>\n      <td>0.0</td>\n      <td>51.632515</td>\n      <td>30.610456</td>\n      <td>104</td>\n      <td>19</td>\n      <td>5.385165</td>\n      <td>False</td>\n      <td>0.000000</td>\n      <td>0.283430</td>\n    </tr>\n    <tr>\n      <th>2</th>\n      <td>2021-10-12T23:30:00Z</td>\n      <td>2021-10-13T02:17:13Z</td>\n      <td>2021020001</td>\n      <td>2021-10-12T23:47:01Z</td>\n      <td>14</td>\n      <td>Tampa Bay Lightning</td>\n      <td>TBL</td>\n      <td>0</td>\n      <td>8.0</td>\n      <td>27.0</td>\n      <td>...</td>\n      <td>0.0</td>\n      <td>0.0</td>\n      <td>71.565051</td>\n      <td>85.381497</td>\n      <td>121</td>\n      <td>4</td>\n      <td>100.568385</td>\n      <td>False</td>\n      <td>0.000000</td>\n      <td>25.142096</td>\n    </tr>\n    <tr>\n      <th>3</th>\n      <td>2021-10-12T23:30:00Z</td>\n      <td>2021-10-13T02:17:13Z</td>\n      <td>2021020001</td>\n      <td>2021-10-12T23:48:22Z</td>\n      <td>5</td>\n      <td>Pittsburgh Penguins</td>\n      <td>PIT</td>\n      <td>0</td>\n      <td>60.0</td>\n      <td>4.0</td>\n      <td>...</td>\n      <td>0.0</td>\n      <td>0.0</td>\n      <td>82.146687</td>\n      <td>29.274562</td>\n      <td>167</td>\n      <td>2</td>\n      <td>130.311166</td>\n      <td>False</td>\n      <td>0.000000</td>\n      <td>65.155583</td>\n    </tr>\n    <tr>\n      <th>4</th>\n      <td>2021-10-12T23:30:00Z</td>\n      <td>2021-10-13T02:17:13Z</td>\n      <td>2021020001</td>\n      <td>2021-10-12T23:49:12Z</td>\n      <td>14</td>\n      <td>Tampa Bay Lightning</td>\n      <td>TBL</td>\n      <td>0</td>\n      <td>63.0</td>\n      <td>4.0</td>\n      <td>...</td>\n      <td>0.0</td>\n      <td>0.0</td>\n      <td>81.253838</td>\n      <td>26.305893</td>\n      <td>187</td>\n      <td>19</td>\n      <td>134.536240</td>\n      <td>False</td>\n      <td>0.000000</td>\n      <td>7.080855</td>\n    </tr>\n    <tr>\n      <th>...</th>\n      <td>...</td>\n      <td>...</td>\n      <td>...</td>\n      <td>...</td>\n      <td>...</td>\n      <td>...</td>\n      <td>...</td>\n      <td>...</td>\n      <td>...</td>\n      <td>...</td>\n      <td>...</td>\n      <td>...</td>\n      <td>...</td>\n      <td>...</td>\n      <td>...</td>\n      <td>...</td>\n      <td>...</td>\n      <td>...</td>\n      <td>...</td>\n      <td>...</td>\n      <td>...</td>\n    </tr>\n    <tr>\n      <th>58</th>\n      <td>2021-10-12T23:30:00Z</td>\n      <td>2021-10-13T02:17:13Z</td>\n      <td>2021020001</td>\n      <td>2021-10-13T02:12:00Z</td>\n      <td>5</td>\n      <td>Pittsburgh Penguins</td>\n      <td>PIT</td>\n      <td>1</td>\n      <td>31.0</td>\n      <td>32.0</td>\n      <td>...</td>\n      <td>1.0</td>\n      <td>0.0</td>\n      <td>61.113418</td>\n      <td>66.241981</td>\n      <td>3455</td>\n      <td>14</td>\n      <td>38.013156</td>\n      <td>False</td>\n      <td>0.000000</td>\n      <td>2.715225</td>\n    </tr>\n    <tr>\n      <th>59</th>\n      <td>2021-10-12T23:30:00Z</td>\n      <td>2021-10-13T02:17:13Z</td>\n      <td>2021020001</td>\n      <td>2021-10-13T02:13:18Z</td>\n      <td>5</td>\n      <td>Pittsburgh Penguins</td>\n      <td>PIT</td>\n      <td>1</td>\n      <td>24.0</td>\n      <td>10.0</td>\n      <td>...</td>\n      <td>1.0</td>\n      <td>0.0</td>\n      <td>81.253838</td>\n      <td>65.764732</td>\n      <td>3491</td>\n      <td>36</td>\n      <td>26.000000</td>\n      <td>False</td>\n      <td>0.000000</td>\n      <td>0.722222</td>\n    </tr>\n    <tr>\n      <th>60</th>\n      <td>2021-10-12T23:30:00Z</td>\n      <td>2021-10-13T02:17:13Z</td>\n      <td>2021020001</td>\n      <td>2021-10-13T02:16:44Z</td>\n      <td>14</td>\n      <td>Tampa Bay Lightning</td>\n      <td>TBL</td>\n      <td>0</td>\n      <td>45.0</td>\n      <td>2.0</td>\n      <td>...</td>\n      <td>0.0</td>\n      <td>0.0</td>\n      <td>87.397438</td>\n      <td>44.045431</td>\n      <td>3580</td>\n      <td>5</td>\n      <td>31.240999</td>\n      <td>False</td>\n      <td>0.000000</td>\n      <td>6.248200</td>\n    </tr>\n    <tr>\n      <th>61</th>\n      <td>2021-10-12T23:30:00Z</td>\n      <td>2021-10-13T02:17:13Z</td>\n      <td>2021020001</td>\n      <td>2021-10-13T02:16:52Z</td>\n      <td>14</td>\n      <td>Tampa Bay Lightning</td>\n      <td>TBL</td>\n      <td>0</td>\n      <td>56.0</td>\n      <td>29.0</td>\n      <td>...</td>\n      <td>0.0</td>\n      <td>0.0</td>\n      <td>48.691386</td>\n      <td>43.931765</td>\n      <td>3588</td>\n      <td>8</td>\n      <td>29.154759</td>\n      <td>True</td>\n      <td>-38.706052</td>\n      <td>3.644345</td>\n    </tr>\n    <tr>\n      <th>62</th>\n      <td>2021-10-12T23:30:00Z</td>\n      <td>2021-10-13T02:17:13Z</td>\n      <td>2021020001</td>\n      <td>2021-10-13T02:16:59Z</td>\n      <td>14</td>\n      <td>Tampa Bay Lightning</td>\n      <td>TBL</td>\n      <td>0</td>\n      <td>37.0</td>\n      <td>-28.0</td>\n      <td>...</td>\n      <td>0.0</td>\n      <td>0.0</td>\n      <td>61.699244</td>\n      <td>59.059292</td>\n      <td>3595</td>\n      <td>7</td>\n      <td>60.083276</td>\n      <td>True</td>\n      <td>13.007858</td>\n      <td>8.583325</td>\n    </tr>\n  </tbody>\n</table>\n<p>63 rows × 33 columns</p>\n</div>"
     },
     "execution_count": 4,
     "metadata": {},
     "output_type": "execute_result"
    }
   ],
   "source": [
    "%%time\n",
    "GameClient.get_game_data(2021020001)"
   ],
   "metadata": {
    "collapsed": false
   }
  },
  {
   "cell_type": "markdown",
   "source": [
    "speed difference shows caching efficiency"
   ],
   "metadata": {
    "collapsed": false
   }
  }
 ],
 "metadata": {
  "kernelspec": {
   "display_name": "Python 3 (ipykernel)",
   "language": "python",
   "name": "python3"
  },
  "language_info": {
   "codemirror_mode": {
    "name": "ipython",
    "version": 3
   },
   "file_extension": ".py",
   "mimetype": "text/x-python",
   "name": "python",
   "nbconvert_exporter": "python",
   "pygments_lexer": "ipython3",
   "version": "3.10.8"
  }
 },
 "nbformat": 4,
 "nbformat_minor": 5
}
